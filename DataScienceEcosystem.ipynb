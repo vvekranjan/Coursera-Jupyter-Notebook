{
 "cells": [
  {
   "cell_type": "markdown",
   "id": "a8857d84-1610-4486-91b4-0cfa20de9c32",
   "metadata": {
    "tags": []
   },
   "source": [
    "# Data Science Tools and Ecosystem"
   ]
  },
  {
   "cell_type": "markdown",
   "id": "d4cc2ffa-9d02-493d-8da9-16e63710e87a",
   "metadata": {},
   "source": [
    "This notebook contains information about the different tools and technologies that are used in data science"
   ]
  },
  {
   "cell_type": "markdown",
   "id": "773fbae0-8b3d-4147-bec6-737b186bed74",
   "metadata": {},
   "source": [
    "**Objectives:** List popular Library for Data Science\n",
    "* TensorFlow\n",
    "* NumPy\n",
    "* Pandas"
   ]
  },
  {
   "cell_type": "markdown",
   "id": "4c74656d-6449-41f3-89e6-293ce1a90fb2",
   "metadata": {},
   "source": [
    "#### Popular languages that Data Scientists use are:"
   ]
  },
  {
   "cell_type": "markdown",
   "id": "58f452c2-defe-4b4b-9472-f77de2e26afe",
   "metadata": {},
   "source": [
    "* Python\n",
    "* R \n",
    "* Julia\n",
    "* SQL"
   ]
  },
  {
   "cell_type": "markdown",
   "id": "132868fd-9a56-4b84-bb03-f47790dbf8e7",
   "metadata": {},
   "source": [
    "#### Commonly used libraries used by Data Scientists include:"
   ]
  },
  {
   "cell_type": "markdown",
   "id": "ecac757e-a967-4722-80f2-d6c1ee872364",
   "metadata": {},
   "source": [
    "* TensorFlow\n",
    "* NumPy\n",
    "* SciPy\n",
    "* Pandas\n",
    "* Matplotlib"
   ]
  },
  {
   "cell_type": "markdown",
   "id": "1c9aaee2-e306-4394-8309-1385a158b96f",
   "metadata": {},
   "source": [
    "| Data Science Tools | TensorFlow | Spark | PyTorch |\n",
    "|---|---|---|---|\n"
   ]
  },
  {
   "cell_type": "markdown",
   "id": "8330c944-9f16-4ff3-b4fb-af80f3967f84",
   "metadata": {},
   "source": [
    "### Below are a few examples of evaluating arithmetic expressions in Python"
   ]
  },
  {
   "cell_type": "code",
   "execution_count": 2,
   "id": "150ae4a8-420c-4253-90da-d511e89b62cd",
   "metadata": {
    "tags": []
   },
   "outputs": [
    {
     "data": {
      "text/plain": [
       "17"
      ]
     },
     "execution_count": 2,
     "metadata": {},
     "output_type": "execute_result"
    }
   ],
   "source": [
    "(3*4)+5\n",
    "# This a simple arithmetic expression to mutiply then add integers"
   ]
  },
  {
   "cell_type": "code",
   "execution_count": 4,
   "id": "af108c0e-5846-475e-ab78-eb366f8647b0",
   "metadata": {
    "tags": []
   },
   "outputs": [
    {
     "data": {
      "text/plain": [
       "3.3333333333333335"
      ]
     },
     "execution_count": 4,
     "metadata": {},
     "output_type": "execute_result"
    }
   ],
   "source": [
    "# This will convert 200 minutes to hours by diving by 60\n",
    "200/60"
   ]
  },
  {
   "cell_type": "markdown",
   "id": "b7eb305f-0150-4d04-b9cf-3fd16f78861e",
   "metadata": {},
   "source": [
    "## Author\n",
    "Vivek ranjan"
   ]
  },
  {
   "cell_type": "code",
   "execution_count": null,
   "id": "48c78464-c770-46cc-a72e-e40134362240",
   "metadata": {},
   "outputs": [],
   "source": []
  }
 ],
 "metadata": {
  "kernelspec": {
   "display_name": "Python",
   "language": "python",
   "name": "conda-env-python-py"
  },
  "language_info": {
   "codemirror_mode": {
    "name": "ipython",
    "version": 3
   },
   "file_extension": ".py",
   "mimetype": "text/x-python",
   "name": "python",
   "nbconvert_exporter": "python",
   "pygments_lexer": "ipython3",
   "version": "3.7.12"
  }
 },
 "nbformat": 4,
 "nbformat_minor": 5
}
